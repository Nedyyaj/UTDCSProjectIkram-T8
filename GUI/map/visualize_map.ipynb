{
 "cells": [
  {
   "cell_type": "code",
   "execution_count": null,
   "metadata": {},
   "outputs": [],
   "source": [
    "import matplotlib.pyplot as plt\n",
    "import geopandas\n",
    "\n",
    "counties = geopandas.read_file(r\"Texas_County_Boundaries_Detailed_6830276903728206656\\Texas_County_Boundaries_Detailed.shp\")\n",
    "counties = counties.to_crs(\"EPSG:3395\") # mercator projection\n",
    "counties.plot()"
   ]
  },
  {
   "cell_type": "code",
   "execution_count": null,
   "metadata": {},
   "outputs": [],
   "source": [
    "# Texas counties for which we have data\n",
    "desired_counties = ['Montague', 'Cooke', 'Grayson', 'Fannin', 'Lamar',\n",
    "                    'Young', 'Jack', 'Wise', 'Denton', 'Collin', 'Hunt', 'Delta',\n",
    "                    'Stephens', 'Palo Pinto', 'Parker', 'Tarrant', 'Dallas', 'Rockwall', 'Kaufman', 'Van Zandt', 'Rains', 'Hopkins',\n",
    "                    'Eastland', 'Erath', 'Hood', 'Somervell', 'Johnson', 'Ellis', 'Henderson',\n",
    "                    'Comanche', 'Hamilton', 'Bosque', 'Hill', 'Navarro', 'Anderson',\n",
    "                    'Mills', 'Lampasas', 'Coryell', 'McLennan', 'Limestone', 'Freestone',\n",
    "                    'Bell', 'Falls', 'Milam', 'Robertson', 'Leon']"
   ]
  },
  {
   "cell_type": "code",
   "execution_count": null,
   "metadata": {},
   "outputs": [],
   "source": [
    "north_texas_counties = counties[counties['CNTY_NM'].isin(desired_counties)]\n",
    "north_texas_counties.boundary.plot()"
   ]
  },
  {
   "cell_type": "code",
   "execution_count": null,
   "metadata": {},
   "outputs": [],
   "source": [
    "north_texas_counties.to_file(r'North Texas Counties\\north_texas.shp')"
   ]
  },
  {
   "cell_type": "code",
   "execution_count": null,
   "metadata": {},
   "outputs": [],
   "source": [
    "import geopandas\n",
    "\n",
    "north_texas_counties = geopandas.read_file(r'North Texas Counties\\north_texas.shp')\n",
    "north_texas_counties.boundary.plot()"
   ]
  },
  {
   "cell_type": "code",
   "execution_count": null,
   "metadata": {},
   "outputs": [],
   "source": [
    "# Choropleth map of the covered regions\n",
    "# can be used to overlay temp or precip data, for example\n",
    "north_texas_counties.plot(column='GID')"
   ]
  },
  {
   "cell_type": "code",
   "execution_count": null,
   "metadata": {},
   "outputs": [],
   "source": [
    "# where each station is located\n",
    "station_locations = {\n",
    "    'DFW': 'DFW Airport',\n",
    "    'ACT': 'Waco',\n",
    "    'ADS': 'Addison',\n",
    "    'GKY': 'Arlington',\n",
    "    'F44': 'Athens',\n",
    "    'F00': 'Bonham',\n",
    "    '0F2': 'Bowie',\n",
    "    'BKD': 'Breckenridge',\n",
    "    'XBP': 'Bridgeport',\n",
    "    'T35': 'Cameron',\n",
    "    'GZN': 'Cisco',\n",
    "    'CPT': 'Cleburne',\n",
    "    'MKN': 'Comanche',\n",
    "    'CSR': 'Coriscana',\n",
    "    'DAL': 'Dallas Love Field',\n",
    "    'RBD': 'Dallas Executive',\n",
    "    'LUD': 'Decatur',\n",
    "    'DTO': 'Denton',\n",
    "    'ETN': 'Eastland',\n",
    "    'HLR': 'Fort Cavazos',\n",
    "    'FTW': 'Fort Worth Meacham',\n",
    "    'AFW': 'Fort Worth Alliance',\n",
    "    'NFW': 'Fort Worth NAS JRB',\n",
    "    'FWS': 'Fort Worth Spinks',\n",
    "    'FWD': 'Fort Worth NWS',\n",
    "    'GLE': 'Gainesville',\n",
    "    'GOP': 'Gatesville',\n",
    "    'RPH': 'Graham',\n",
    "    'GDJ': 'Granbury',\n",
    "    'GPM': 'Grand Prairie',\n",
    "    'GVT': 'Greenville',\n",
    "    'MNZ': 'Hamilton',\n",
    "    'LHB': 'Hearne',\n",
    "    'INJ': 'Hillsboro',\n",
    "    'GRK': 'Killeen',\n",
    "    'ILE': 'Killeen Skylark',\n",
    "    'LZZ': 'Lampasas',\n",
    "    'LNC': 'Lancaster',\n",
    "    'TKI': 'McKinney',\n",
    "    'HQZ': 'Mesquite',\n",
    "    'LXY': 'Mexia',\n",
    "    'MWL': 'Mineral Wells',\n",
    "    'PSN': 'Palestine',\n",
    "    'PRX': 'Paris',\n",
    "    '6P9': 'Ranger',\n",
    "    'F46': 'Rockwall',\n",
    "    'GYI': 'Sherman/Denison',\n",
    "    'SEP': 'Stephenville',\n",
    "    'SLR': 'Sulphur Springs',\n",
    "    'TPL': 'Temple',\n",
    "    'TRL': 'Terrell',\n",
    "    'PWG': 'Waco McGregor',\n",
    "    'CNW': 'Waco TSTC',\n",
    "    'JWY': 'Waxahachie'\n",
    "}\n",
    "\n",
    "location_counties = {\n",
    "    'DFW Airport': 'Tarrant',\n",
    "    'Waco': 'McLennan',\n",
    "    'Addison': 'Dallas',\n",
    "    'Arlington': 'Tarrant',\n",
    "    'Athens': 'Henderson',\n",
    "    'Bonham': 'Fannin',\n",
    "    'Bowie': 'Montague',\n",
    "    'Breckenridge': 'Stephens',\n",
    "    'Bridgeport': 'Wise',\n",
    "    'Cameron': 'Milam',\n",
    "    'Cisco': 'Eastland',\n",
    "    'Cleburne': 'Johnson',\n",
    "    'Comanche': 'Comanche',\n",
    "    'Coriscana': 'Navarro',\n",
    "    'Dallas Love Field': 'Dallas',\n",
    "    'Dallas Executive': 'Dallas',\n",
    "    'Decatur': 'Wise',\n",
    "    'Denton': 'Denton',\n",
    "    'Eastland': 'Eastland',\n",
    "    'Fort Cavazos': 'Coryell',\n",
    "    'Fort Worth Meacham': 'Tarrant',\n",
    "    'Fort Worth Alliance': 'Tarrant',\n",
    "    'Fort Worth NAS JRB': 'Tarrant',\n",
    "    'Fort Worth Spinks': 'Tarrant',\n",
    "    'Fort Worth NWS': 'Tarrant',\n",
    "    'Gainesville': 'Cooke',\n",
    "    'Gatesville': 'Coryell',\n",
    "    'Graham': 'Young',\n",
    "    'Granbury': 'Hood',\n",
    "    'Grand Prairie': 'Tarrant',\n",
    "    'Greenville': 'Hunt',\n",
    "    'Hamilton': 'Hamilton',\n",
    "    'Hearne': 'Robertson',\n",
    "    'Hillsboro': 'Hill',\n",
    "    'Killeen': 'Bell',\n",
    "    'Killeen Skylark': 'Bell',\n",
    "    'Lampasas': 'Lampasas',\n",
    "    'Lancaster': 'Dallas',\n",
    "    'McKinney': 'Collin',\n",
    "    'Mesquite': 'Dallas',\n",
    "    'Mexia': 'Limestone',\n",
    "    'Mineral Wells': 'Palo Pinto',\n",
    "    'Palestine': 'Anderson',\n",
    "    'Paris': 'Lamar',\n",
    "    'Ranger': 'Eastland',\n",
    "    'Rockwall': 'Rockwall',\n",
    "    'Sherman/Denison': 'Grayson',\n",
    "    'Stephenville': 'Erath',\n",
    "    'Sulphur Springs': 'Hopkins',\n",
    "    'Temple': 'Bell',\n",
    "    'Terrell': 'Kaufman',\n",
    "    'Waco McGregor': 'McLennan',\n",
    "    'Waco TSTC': 'McLennan',\n",
    "    'Waxahachie': 'Ellis'\n",
    "}\n",
    "\n",
    "station_counties = [location_counties[station_locations[x]] for x in station_locations]\n",
    "station_counties"
   ]
  },
  {
   "cell_type": "code",
   "execution_count": null,
   "metadata": {},
   "outputs": [],
   "source": [
    "data_counties = north_texas_counties[north_texas_counties['CNTY_NM'].isin(station_counties)]\n",
    "data_counties.boundary.plot()"
   ]
  },
  {
   "cell_type": "code",
   "execution_count": null,
   "metadata": {},
   "outputs": [],
   "source": [
    "bad_data_stations= ['FWD', '6P9', 'ADS',\n",
    "                   'CNW', 'ETN', 'F00', \n",
    "                   'F44', 'F46', 'FWS', \n",
    "                   'GRK', 'GZN', 'HLR',\n",
    "                   'HQZ', 'LNC', 'LXY',\n",
    "                   'LZZ', 'NFW', 'T35']\n",
    "\n",
    "good_data_station_counties = [location_counties[station_locations[x]] for x in station_locations if x not in bad_data_stations]\n"
   ]
  },
  {
   "cell_type": "code",
   "execution_count": null,
   "metadata": {},
   "outputs": [],
   "source": [
    "north_texas_counties['Included'] = north_texas_counties['CNTY_NM'].isin(good_data_station_counties)\n",
    "north_texas_counties.plot(column='Included')"
   ]
  },
  {
   "cell_type": "code",
   "execution_count": null,
   "metadata": {},
   "outputs": [],
   "source": [
    "# a list of counties with few missing data points, and what is missing can be averaged from the rest\n",
    "potential_counties = ['Montague', 'Cooke', 'Grayson',\n",
    "                    'Young', 'Jack', 'Wise', 'Denton', 'Collin', 'Hunt',\n",
    "                    'Stephens', 'Palo Pinto', 'Parker', 'Tarrant', 'Dallas', 'Rockwall', 'Kaufman',\n",
    "                    'Eastland', 'Erath', 'Hood', 'Somervell', 'Johnson', 'Ellis',\n",
    "                    'Comanche', 'Hamilton', 'Bosque', 'Hill', 'Navarro',\n",
    "                    'Coryell', 'McLennan']\n",
    "\n",
    "p_north_texas_counties = north_texas_counties[north_texas_counties['CNTY_NM'].isin(potential_counties)]\n",
    "p_north_texas_counties.plot()#column='Included')"
   ]
  },
  {
   "cell_type": "code",
   "execution_count": null,
   "metadata": {},
   "outputs": [],
   "source": [
    "p_north_texas_counties.to_file(r'Select Counties\\selected.shp')"
   ]
  },
  {
   "cell_type": "code",
   "execution_count": null,
   "metadata": {},
   "outputs": [],
   "source": [
    "# Counties with no station data to report, but can be estimated from the average of the following other counties\n",
    "missing_counties = {\n",
    "    'Eastland': ['Stephens', 'Comanche'],\n",
    "    'Jack': ['Young', 'Wise'],\n",
    "    'Parker': ['Palo Pinto', 'Hood', 'Tarrant', 'Denton'],\n",
    "    'Rockwall': ['Dallas', 'Collin', 'Hunt', 'Kaufman'],\n",
    "    'Somervell': ['Erath', 'Hood', 'Johnson'],\n",
    "    'Bosque': ['Hamilton', 'Hill', 'McLennan', 'Coryell']\n",
    "}"
   ]
  },
  {
   "cell_type": "code",
   "execution_count": null,
   "metadata": {},
   "outputs": [],
   "source": [
    "valid_stations = [x for x, y in station_locations.items() if (location_counties[y] in potential_counties and x not in bad_data_stations)]\n",
    "valid_stations"
   ]
  },
  {
   "cell_type": "code",
   "execution_count": null,
   "metadata": {},
   "outputs": [],
   "source": [
    "county_stations = {}\n",
    "sc = {x:location_counties[station_locations[x]] for x in station_locations}\n",
    "\n",
    "for station in sc:\n",
    "    if station not in valid_stations:\n",
    "        continue\n",
    "    county = sc[station]\n",
    "    if county not in potential_counties:\n",
    "        continue\n",
    "    if county not in county_stations:\n",
    "        county_stations[county] = []\n",
    "    county_stations[county].append(station)\n",
    "\n",
    "for county in missing_counties:\n",
    "    county_stations[county] = []\n",
    "    replacement_counties = missing_counties[county]\n",
    "    for other_county in replacement_counties:\n",
    "        county_stations[county].extend(county_stations[other_county])\n",
    "\n",
    "county_stations\n",
    "    "
   ]
  }
 ],
 "metadata": {
  "kernelspec": {
   "display_name": "Python 3",
   "language": "python",
   "name": "python3"
  },
  "language_info": {
   "codemirror_mode": {
    "name": "ipython",
    "version": 3
   },
   "file_extension": ".py",
   "mimetype": "text/x-python",
   "name": "python",
   "nbconvert_exporter": "python",
   "pygments_lexer": "ipython3",
   "version": "3.12.6"
  }
 },
 "nbformat": 4,
 "nbformat_minor": 2
}
