{
 "cells": [
  {
   "cell_type": "code",
   "execution_count": 12,
   "id": "5bcc6216",
   "metadata": {},
   "outputs": [
    {
     "name": "stdout",
     "output_type": "stream",
     "text": [
      "Epoch 0: train RMSE 0.4628, test RMSE 0.4616\n",
      "Epoch 5: train RMSE 0.0642, test RMSE 0.0674\n",
      "Epoch 10: train RMSE 0.0531, test RMSE 0.0589\n",
      "Epoch 15: train RMSE 0.0483, test RMSE 0.0563\n",
      "Epoch 20: train RMSE 0.0467, test RMSE 0.0581\n",
      "Final model: train RMSE 0.0449, test RMSE 0.0551\n",
      "Epoch 0: train RMSE 0.3866, test RMSE 0.3858\n",
      "Epoch 5: train RMSE 0.0634, test RMSE 0.0663\n",
      "Epoch 10: train RMSE 0.0527, test RMSE 0.0586\n",
      "Epoch 15: train RMSE 0.0489, test RMSE 0.0584\n",
      "Epoch 20: train RMSE 0.0465, test RMSE 0.0566\n",
      "Final model: train RMSE 0.0450, test RMSE 0.0562\n",
      "Epoch 0: train RMSE 0.3611, test RMSE 0.3604\n",
      "Epoch 5: train RMSE 0.0593, test RMSE 0.0636\n",
      "Epoch 10: train RMSE 0.0493, test RMSE 0.0555\n",
      "Epoch 15: train RMSE 0.0447, test RMSE 0.0533\n",
      "Epoch 20: train RMSE 0.0424, test RMSE 0.0530\n",
      "Final model: train RMSE 0.0413, test RMSE 0.0530\n",
      "Epoch 0: train RMSE 0.1933, test RMSE 0.1920\n",
      "Epoch 5: train RMSE 0.0570, test RMSE 0.0615\n",
      "Epoch 10: train RMSE 0.0491, test RMSE 0.0556\n",
      "Epoch 15: train RMSE 0.0454, test RMSE 0.0537\n",
      "Epoch 20: train RMSE 0.0429, test RMSE 0.0542\n",
      "Final model: train RMSE 0.0422, test RMSE 0.0561\n",
      "Epoch 0: train RMSE 0.1684, test RMSE 0.1674\n",
      "Epoch 5: train RMSE 0.0565, test RMSE 0.0608\n",
      "Epoch 10: train RMSE 0.0485, test RMSE 0.0548\n",
      "Epoch 15: train RMSE 0.0437, test RMSE 0.0514\n",
      "Epoch 20: train RMSE 0.0420, test RMSE 0.0508\n",
      "Final model: train RMSE 0.0410, test RMSE 0.0510\n",
      "Epoch 0: train RMSE 0.1572, test RMSE 0.1564\n",
      "Epoch 5: train RMSE 0.0550, test RMSE 0.0607\n",
      "Epoch 10: train RMSE 0.0456, test RMSE 0.0526\n",
      "Epoch 15: train RMSE 0.0426, test RMSE 0.0510\n",
      "Epoch 20: train RMSE 0.0407, test RMSE 0.0524\n",
      "Final model: train RMSE 0.0396, test RMSE 0.0540\n",
      "Epoch 0: train RMSE 0.1585, test RMSE 0.1584\n",
      "Epoch 5: train RMSE 0.0547, test RMSE 0.0592\n",
      "Epoch 10: train RMSE 0.0456, test RMSE 0.0529\n",
      "Epoch 15: train RMSE 0.0423, test RMSE 0.0512\n",
      "Epoch 20: train RMSE 0.0399, test RMSE 0.0543\n",
      "Final model: train RMSE 0.0428, test RMSE 0.0504\n",
      "Epoch 0: train RMSE 0.1363, test RMSE 0.1356\n",
      "Epoch 5: train RMSE 0.0528, test RMSE 0.0576\n",
      "Epoch 10: train RMSE 0.0446, test RMSE 0.0520\n",
      "Epoch 15: train RMSE 0.0414, test RMSE 0.0535\n",
      "Epoch 20: train RMSE 0.0395, test RMSE 0.0515\n",
      "Final model: train RMSE 0.0380, test RMSE 0.0511\n",
      "{30: (tensor(0.0449), tensor(0.0551), <forecast.Forecaster object at 0x00000225548C3590>), 40: (tensor(0.0450), tensor(0.0562), <forecast.Forecaster object at 0x0000022551464560>), 50: (tensor(0.0413), tensor(0.0530), <forecast.Forecaster object at 0x00000225544058B0>), 60: (tensor(0.0422), tensor(0.0561), <forecast.Forecaster object at 0x0000022554DAF7A0>), 70: (tensor(0.0410), tensor(0.0510), <forecast.Forecaster object at 0x0000022554DAAF60>), 80: (tensor(0.0396), tensor(0.0540), <forecast.Forecaster object at 0x00000225541560C0>), 90: (tensor(0.0428), tensor(0.0504), <forecast.Forecaster object at 0x000002255514A630>), 100: (tensor(0.0380), tensor(0.0511), <forecast.Forecaster object at 0x00000225548C2ED0>)}\n"
     ]
    }
   ],
   "source": [
    "from forecast import Forecaster\n",
    "import pickle\n",
    "\n",
    "results = {}\n",
    "\n",
    "for hidden_dim in [30, 40, 50, 60, 70, 80, 90, 100]:\n",
    "    f = Forecaster(r\"..\\preprocessing\\county_variables.csv\", \"forecast.csv\", hidden_dim=hidden_dim, epochs=25)\n",
    "    train_rmse, test_rmse = f.train()\n",
    "    results[hidden_dim] = (train_rmse, test_rmse, f)\n",
    "\n",
    "print(results)"
   ]
  },
  {
   "cell_type": "code",
   "execution_count": 14,
   "id": "0affcc2c",
   "metadata": {},
   "outputs": [
    {
     "name": "stdout",
     "output_type": "stream",
     "text": [
      "90 (tensor(0.0428), tensor(0.0504))\n"
     ]
    }
   ],
   "source": [
    "best_hidden_dim = min(results, key=lambda x: results[x][1])\n",
    "print(best_hidden_dim, results[best_hidden_dim][:2])\n",
    "best_forecaster = results[best_hidden_dim][2]"
   ]
  },
  {
   "cell_type": "code",
   "execution_count": null,
   "id": "7e24df44",
   "metadata": {},
   "outputs": [],
   "source": [
    "with open('trained_forecaster.pkl', 'wb+') as f:\n",
    "    pickle.dump(best_forecaster, f)"
   ]
  },
  {
   "cell_type": "code",
   "execution_count": 16,
   "id": "2c58609a-e6cd-4a8c-91f4-b2d82efd4550",
   "metadata": {},
   "outputs": [],
   "source": [
    "best_forecaster.generate('2024-06-01')"
   ]
  },
  {
   "cell_type": "code",
   "execution_count": null,
   "id": "afc58388-1a31-452a-b3dc-2d7bb81f5e92",
   "metadata": {},
   "outputs": [],
   "source": []
  }
 ],
 "metadata": {
  "kernelspec": {
   "display_name": "Python 3 (ipykernel)",
   "language": "python",
   "name": "python3"
  },
  "language_info": {
   "codemirror_mode": {
    "name": "ipython",
    "version": 3
   },
   "file_extension": ".py",
   "mimetype": "text/x-python",
   "name": "python",
   "nbconvert_exporter": "python",
   "pygments_lexer": "ipython3",
   "version": "3.12.7"
  }
 },
 "nbformat": 4,
 "nbformat_minor": 5
}
