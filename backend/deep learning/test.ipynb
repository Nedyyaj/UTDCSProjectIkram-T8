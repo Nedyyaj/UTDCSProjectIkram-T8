{
 "cells": [
  {
   "cell_type": "code",
   "execution_count": 2,
   "id": "bf487b78-dd32-4e9e-ba61-1864511c1ef5",
   "metadata": {
    "editable": true,
    "slideshow": {
     "slide_type": ""
    },
    "tags": []
   },
   "outputs": [
    {
     "name": "stdout",
     "output_type": "stream",
     "text": [
      "Epoch 0: train RMSE 8.6934, test RMSE 8.6536\n",
      "Epoch 5: train RMSE 2.4141, test RMSE 3.4237\n",
      "Epoch 10: train RMSE 2.1372, test RMSE 3.2289\n",
      "Epoch 15: train RMSE 2.1233, test RMSE 3.2037\n",
      "Final model: train RMSE 2.1348, test RMSE 3.2254\n"
     ]
    }
   ],
   "source": [
    "from forecast import Forecaster\n",
    "\n",
    "f = Forecaster(r\"..\\preprocessing\\county_variables.csv\", \"forecast.csv\")\n",
    "f.train()"
   ]
  },
  {
   "cell_type": "code",
   "execution_count": 5,
   "id": "22c79396-b42d-4a2c-aaad-17960ea257a0",
   "metadata": {
    "editable": true,
    "slideshow": {
     "slide_type": ""
    },
    "tags": []
   },
   "outputs": [],
   "source": [
    "f.generate('2024-06-01')"
   ]
  },
  {
   "cell_type": "code",
   "execution_count": null,
   "id": "68a59dd1-226f-428f-ae36-637198857a99",
   "metadata": {
    "editable": true,
    "slideshow": {
     "slide_type": ""
    },
    "tags": []
   },
   "outputs": [],
   "source": []
  }
 ],
 "metadata": {
  "kernelspec": {
   "display_name": "Python 3 (ipykernel)",
   "language": "python",
   "name": "python3"
  },
  "language_info": {
   "codemirror_mode": {
    "name": "ipython",
    "version": 3
   },
   "file_extension": ".py",
   "mimetype": "text/x-python",
   "name": "python",
   "nbconvert_exporter": "python",
   "pygments_lexer": "ipython3",
   "version": "3.12.7"
  }
 },
 "nbformat": 4,
 "nbformat_minor": 5
}
