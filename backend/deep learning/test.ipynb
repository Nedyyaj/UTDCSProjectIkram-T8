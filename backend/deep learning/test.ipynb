{
 "cells": [
  {
   "cell_type": "code",
   "execution_count": null,
   "id": "5bcc6216",
   "metadata": {},
   "outputs": [],
   "source": [
    "from forecast import Forecaster\n",
    "import pickle\n",
    "\n",
    "results = {}\n",
    "\n",
    "for hidden_dim in [30, 40, 50, 60, 70, 80, 90, 100]:\n",
    "    f = Forecaster(r\"..\\preprocessing\\county_variables.csv\", \"forecast.csv\", hidden_dim=hidden_dim, epochs=20)\n",
    "    train_rmse, test_rmse = f.train()\n",
    "    results[hidden_dim] = (train_rmse, test_rmse, f)\n",
    "\n",
    "print(results)"
   ]
  },
  {
   "cell_type": "code",
   "execution_count": null,
   "id": "0affcc2c",
   "metadata": {},
   "outputs": [],
   "source": [
    "best_hidden_dim = max(results, key=lambda x: x[1])\n",
    "print(results[best_hidden_dim][:2])\n",
    "best_forecaster = results[best_hidden_dim][2]"
   ]
  },
  {
   "cell_type": "code",
   "execution_count": null,
   "id": "7e24df44",
   "metadata": {},
   "outputs": [],
   "source": [
    "with open('trained_forecaster.pkl', 'wb+') as f:\n",
    "    pickle.dump(best_forecaster, f)"
   ]
  }
 ],
 "metadata": {
  "kernelspec": {
   "display_name": "Python 3",
   "language": "python",
   "name": "python3"
  },
  "language_info": {
   "codemirror_mode": {
    "name": "ipython",
    "version": 3
   },
   "file_extension": ".py",
   "mimetype": "text/x-python",
   "name": "python",
   "nbconvert_exporter": "python",
   "pygments_lexer": "ipython3",
   "version": "3.13.1"
  }
 },
 "nbformat": 4,
 "nbformat_minor": 5
}
