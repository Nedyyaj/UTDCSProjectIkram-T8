{
 "cells": [
  {
   "cell_type": "code",
   "execution_count": 2,
   "id": "bf487b78-dd32-4e9e-ba61-1864511c1ef5",
   "metadata": {
    "editable": true,
    "slideshow": {
     "slide_type": ""
    },
    "tags": []
   },
   "outputs": [
    {
     "name": "stdout",
     "output_type": "stream",
     "text": [
      "Epoch 0: train RMSE 8.2348, test RMSE 8.2268\n",
      "Epoch 5: train RMSE 2.4608, test RMSE 3.4354\n",
      "Epoch 10: train RMSE 2.1659, test RMSE 3.2258\n",
      "Epoch 15: train RMSE 2.0765, test RMSE 3.1303\n",
      "Final model: train RMSE 2.0341, test RMSE 3.0888\n"
     ]
    }
   ],
   "source": [
    "from forecast import Forecaster\n",
    "\n",
    "f = Forecaster(r\"..\\preprocessing\\county_variables.csv\", \"forecast.csv\")\n",
    "f.train()"
   ]
  },
  {
   "cell_type": "code",
   "execution_count": 3,
   "id": "22c79396-b42d-4a2c-aaad-17960ea257a0",
   "metadata": {
    "editable": true,
    "slideshow": {
     "slide_type": ""
    },
    "tags": []
   },
   "outputs": [],
   "source": [
    "f.generate('2024-06-01')"
   ]
  },
  {
   "cell_type": "code",
   "execution_count": 4,
   "id": "68a59dd1-226f-428f-ae36-637198857a99",
   "metadata": {
    "editable": true,
    "slideshow": {
     "slide_type": ""
    },
    "tags": []
   },
   "outputs": [],
   "source": [
    "import pickle\n",
    "\n",
    "with open('trained_forecaster.pkl', 'wb+') as ff:\n",
    "    pickle.dump(f, ff)"
   ]
  },
  {
   "cell_type": "code",
   "execution_count": 6,
   "id": "6311d008",
   "metadata": {},
   "outputs": [],
   "source": [
    "with open('trained_forecaster.pkl', 'rb') as ff:\n",
    "    forecaster = pickle.load(ff)\n",
    "forecaster.generate('2024-06-01', for_days=30)"
   ]
  }
 ],
 "metadata": {
  "kernelspec": {
   "display_name": "Python 3",
   "language": "python",
   "name": "python3"
  },
  "language_info": {
   "codemirror_mode": {
    "name": "ipython",
    "version": 3
   },
   "file_extension": ".py",
   "mimetype": "text/x-python",
   "name": "python",
   "nbconvert_exporter": "python",
   "pygments_lexer": "ipython3",
   "version": "3.13.1"
  }
 },
 "nbformat": 4,
 "nbformat_minor": 5
}
