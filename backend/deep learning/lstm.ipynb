{
 "cells": [
  {
   "cell_type": "code",
   "execution_count": 4,
   "id": "f85e9744-2c55-416d-8f7e-7baf5478fc09",
   "metadata": {
    "editable": true,
    "slideshow": {
     "slide_type": ""
    },
    "tags": []
   },
   "outputs": [
    {
     "data": {
      "image/png": "[encoded data removed]",
      "text/plain": [
       "<Figure size 640x480 with 1 Axes>"
      ]
     },
     "metadata": {},
     "output_type": "display_data"
    }
   ],
   "source": [
    "import pandas as pd\n",
    "import matplotlib.pyplot as plt\n",
    "\n",
    "data = pd.read_csv(r\"..\\preprocessing\\county_variables.csv\")\n",
    "\n",
    "plt.plot(data['Tarrant_temperature'])\n",
    "plt.show()"
   ]
  },
  {
   "cell_type": "code",
   "execution_count": 14,
   "id": "0eabf95d-5a12-4d0c-a506-0057348b0019",
   "metadata": {},
   "outputs": [],
   "source": [
    "import torch\n",
    "\n",
    "data = torch.from_numpy(data.drop('Date', axis=1).values).float()"
   ]
  },
  {
   "cell_type": "code",
   "execution_count": 18,
   "id": "d51e115d-8a36-4c24-9d0b-dc01fe1a10b8",
   "metadata": {},
   "outputs": [],
   "source": [
    "training_len = int(len(data) * 0.7)\n",
    "test_len = len(data) - training_len\n",
    "train, test = data[:training_len], data[training_len:]"
   ]
  },
  {
   "cell_type": "code",
   "execution_count": 24,
   "id": "9921c014-38eb-4c82-b441-7080e7415a45",
   "metadata": {},
   "outputs": [
    {
     "data": {
      "text/plain": [
       "tensor([[6.0000e+00, 6.7800e+01, 0.0000e+00,  ..., 0.0000e+00, 0.0000e+00,\n",
       "         9.8000e+00],\n",
       "        [1.2000e+01, 7.6800e+01, 0.0000e+00,  ..., 0.0000e+00, 0.0000e+00,\n",
       "         9.8000e+00],\n",
       "        [1.8000e+01, 8.4800e+01, 0.0000e+00,  ..., 0.0000e+00, 0.0000e+00,\n",
       "         9.8000e+00],\n",
       "        ...,\n",
       "        [2.4000e+01, 7.8600e+01, 0.0000e+00,  ..., 2.0000e-02, 0.0000e+00,\n",
       "         4.6000e+00],\n",
       "        [6.0000e+00, 7.0200e+01, 0.0000e+00,  ..., 1.3800e-01, 0.0000e+00,\n",
       "         5.4000e+00],\n",
       "        [1.2000e+01, 8.0800e+01, 0.0000e+00,  ..., 1.3800e-01, 0.0000e+00,\n",
       "         5.4000e+00]])"
      ]
     },
     "execution_count": 24,
     "metadata": {},
     "output_type": "execute_result"
    }
   ],
   "source": [
    "train"
   ]
  },
  {
   "cell_type": "code",
   "execution_count": 38,
   "id": "c7d780b3-4070-41c6-ba3e-8aa6f44d871f",
   "metadata": {},
   "outputs": [],
   "source": [
    "import torch\n",
    " \n",
    "def create_dataset(dataset, lookback):\n",
    "    \"\"\"Transform a time series into a prediction dataset\n",
    "    \n",
    "    Args:\n",
    "        dataset: A numpy array of time series, first dimension is the time steps\n",
    "        lookback: Size of window for prediction\n",
    "    \"\"\"\n",
    "    X, y = [], []\n",
    "    for i in range(len(dataset)-lookback):\n",
    "        feature = dataset[i:i+lookback]\n",
    "        target = dataset[i+1:i+lookback+1]\n",
    "        X.append(feature)\n",
    "        y.append(target)\n",
    "    return torch.stack(X, dim=0), torch.stack(y, dim=0)"
   ]
  },
  {
   "cell_type": "code",
   "execution_count": 42,
   "id": "113c2b27-1d4e-414e-9749-c4e6339dc246",
   "metadata": {},
   "outputs": [],
   "source": [
    "import torch.nn as nn\n",
    " \n",
    "class Model(nn.Module):\n",
    "    def __init__(self, io_size, hidden_size, num_layers):\n",
    "        super().__init__()\n",
    "        self.lstm = nn.LSTM(input_size=io_size, hidden_size=hidden_size, num_layers=num_layers, batch_first=True)\n",
    "        self.linear = nn.Linear(hidden_size, io_size)\n",
    "    def forward(self, x):\n",
    "        x, _ = self.lstm(x)\n",
    "        x = self.linear(x)\n",
    "        return x"
   ]
  },
  {
   "cell_type": "code",
   "execution_count": 44,
   "id": "f78b1c7b-7303-4452-b853-0fe209095c15",
   "metadata": {},
   "outputs": [
    {
     "name": "stderr",
     "output_type": "stream",
     "text": [
      "C:\\Users\\Austin\\AppData\\Local\\Temp\\ipykernel_11824\\2336783079.py:25: DeprecationWarning: __array_wrap__ must accept context and return_scalar arguments (positionally) in the future. (Deprecated NumPy 2.0)\n",
      "  train_rmse = np.sqrt(loss_fn(y_pred, y_train))\n",
      "C:\\Users\\Austin\\AppData\\Local\\Temp\\ipykernel_11824\\2336783079.py:27: DeprecationWarning: __array_wrap__ must accept context and return_scalar arguments (positionally) in the future. (Deprecated NumPy 2.0)\n",
      "  test_rmse = np.sqrt(loss_fn(y_pred, y_test))\n"
     ]
    },
    {
     "name": "stdout",
     "output_type": "stream",
     "text": [
      "Epoch 0: train RMSE 7.9278, test RMSE 8.4048\n",
      "Epoch 5: train RMSE 2.6696, test RMSE 3.6376\n",
      "Epoch 10: train RMSE 2.4389, test RMSE 3.5240\n",
      "Epoch 15: train RMSE 2.3255, test RMSE 3.3370\n",
      "Epoch 20: train RMSE 2.2999, test RMSE 3.3356\n",
      "Epoch 25: train RMSE 2.1784, test RMSE 3.2106\n",
      "Epoch 30: train RMSE 2.2262, test RMSE 3.2491\n",
      "Epoch 35: train RMSE 2.1051, test RMSE 3.2137\n",
      "Epoch 40: train RMSE 2.1816, test RMSE 3.1798\n",
      "Epoch 45: train RMSE 2.1195, test RMSE 3.2180\n"
     ]
    }
   ],
   "source": [
    "import numpy as np\n",
    "import torch.optim as optim\n",
    "import torch.utils.data as data\n",
    "\n",
    "lookback = 16\n",
    "X_train, y_train = create_dataset(train, lookback=lookback)\n",
    "X_test, y_test = create_dataset(test, lookback=lookback)\n",
    "print(X_train.shape, y_train.shape)\n",
    "print(X_test.shape, y_test.shape)\n",
    "\n",
    "model = Model(len(train[0]), 60, 1)\n",
    "optimizer = optim.Adam(model.parameters())\n",
    "loss_fn = nn.MSELoss()\n",
    "loader = data.DataLoader(data.TensorDataset(X_train, y_train), shuffle=True, batch_size=8)\n",
    " \n",
    "n_epochs = 100\n",
    "for epoch in range(n_epochs):\n",
    "    model.train()\n",
    "    for X_batch, y_batch in loader:\n",
    "        y_pred = model(X_batch)\n",
    "        loss = loss_fn(y_pred, y_batch)\n",
    "        optimizer.zero_grad()\n",
    "        loss.backward()\n",
    "        optimizer.step()\n",
    "    # Validation\n",
    "    if epoch % 5 != 0:\n",
    "        continue\n",
    "    model.eval()\n",
    "    with torch.no_grad():\n",
    "        y_pred = model(X_train)\n",
    "        train_rmse = np.sqrt(loss_fn(y_pred, y_train))\n",
    "        y_pred = model(X_test)\n",
    "        test_rmse = np.sqrt(loss_fn(y_pred, y_test))\n",
    "    print(\"Epoch %d: train RMSE %.4f, test RMSE %.4f\" % (epoch, train_rmse, test_rmse))"
   ]
  },
  {
   "cell_type": "code",
   "execution_count": 46,
   "id": "e4f8a1f9-bc91-4605-beea-03f319348484",
   "metadata": {},
   "outputs": [
    {
     "data": {
      "text/plain": [
       "tensor([ 6.0000, 67.8000,  0.0000,  0.0000,  9.5000, 70.5000,  0.0000,  0.0000,\n",
       "        10.9000, 62.0000,  0.0000,  0.0000,  9.0000, 72.0000,  0.0000,  0.0000,\n",
       "        11.5000, 68.5000,  0.0000,  0.0000,  9.6000, 73.0000,  0.0000,  0.0000,\n",
       "         9.9000, 72.0000,  0.0000,  0.0000,  8.2000, 70.0000,  0.0000,  0.0000,\n",
       "         9.4000, 70.5000,  0.0000,  0.0000,  9.8000, 64.0000,  0.0000,  0.0000,\n",
       "         9.2000, 63.0000,  0.0000,  0.0000,  8.3000, 72.0000,  0.0000,  0.0000,\n",
       "         6.9000, 69.0000,  0.0000,  0.0000,  7.9000, 74.0000,  0.0000,  0.0000,\n",
       "         8.3000, 68.0000,  0.0000,  0.0000,  6.7000, 71.0000,  0.0000,  0.0000,\n",
       "        10.0000, 72.0000,  0.0000,  0.0000, 10.3000, 64.0000,  0.0000,  0.0000,\n",
       "         7.8000, 69.0000,  0.0000,  0.0000, 11.3000, 67.0000,  0.0000,  0.0000,\n",
       "         9.1000, 73.0000,  0.0000,  0.0000,  8.6000, 73.0000,  0.0000,  0.0000,\n",
       "         8.9000, 69.0000,  0.0000,  0.0000,  7.7000, 72.0000,  0.0000,  0.0000,\n",
       "         9.8000, 68.7000,  0.0000,  0.0000,  9.0000, 68.3000,  0.0000,  0.0000,\n",
       "         9.5000, 69.2000,  0.0000,  0.0000,  8.6000, 73.3000,  0.0000,  0.0000,\n",
       "         8.9000, 71.2000,  0.0000,  0.0000,  9.8000])"
      ]
     },
     "execution_count": 46,
     "metadata": {},
     "output_type": "execute_result"
    }
   ],
   "source": [
    "train[0]"
   ]
  },
  {
   "cell_type": "code",
   "execution_count": 100,
   "id": "dd93b8d3-1370-42c6-8e03-484cd970f133",
   "metadata": {},
   "outputs": [
    {
     "name": "stdout",
     "output_type": "stream",
     "text": [
      "[ 6.0000000e+00  5.9436230e+01  2.5507781e-01  2.4728782e-02\n",
      "  6.0442939e+00  6.0031105e+01  7.2418123e-02  2.0146742e-03\n",
      "  6.7954736e+00  5.4836678e+01  7.8649990e-02  2.0313710e-03\n",
      "  4.0915313e+00  5.6647522e+01  3.3928633e-02 -2.4130754e-04\n",
      "  5.7813745e+00  5.6772709e+01  6.8859018e-02 -1.6963240e-03\n",
      "  4.7536941e+00  6.1114590e+01  2.4383625e-02  2.0339219e-03\n",
      "  5.4914069e+00  5.8785110e+01  2.5817771e-02  6.7751762e-04\n",
      "  5.4907594e+00  6.2154465e+01  4.4732999e-02 -3.0040741e-05\n",
      "  6.4621482e+00  6.2132259e+01  1.0097522e-01  1.2024179e-02\n",
      "  5.8644285e+00  5.6247372e+01  4.6764895e-02 -1.0006130e-05\n",
      "  5.8758759e+00  5.6559444e+01  6.7912906e-02  4.5970082e-06\n",
      "  4.9696851e+00  5.9355438e+01  4.6784848e-02  2.2088736e-04\n",
      "  3.3250029e+00  5.4667294e+01  3.3668529e-02 -2.5845133e-04\n",
      "  4.1131830e+00  5.8315250e+01  5.3089786e-02 -2.5524199e-04\n",
      "  4.2554641e+00  5.8604694e+01  3.9682597e-02 -4.4919550e-05\n",
      "  4.4303803e+00  5.9358944e+01  2.5546432e-02 -2.3730285e-04\n",
      "  6.6287665e+00  6.0764706e+01  4.1494537e-02 -5.0801598e-04\n",
      "  6.5400515e+00  5.7758671e+01  3.1539496e-02  1.1149626e-03\n",
      "  5.1611085e+00  5.5133419e+01  5.6711398e-02 -3.6694109e-06\n",
      "  5.5436001e+00  5.9565540e+01  6.0637824e-02  4.8387796e-05\n",
      "  6.2538548e+00  5.7508072e+01  4.3138102e-02 -1.6946755e-03\n",
      "  3.6301038e+00  5.9908966e+01  3.2995731e-02  7.8026205e-06\n",
      "  5.5380721e+00  5.9527367e+01  5.4903053e-02 -8.9108944e-06\n",
      "  5.3251405e+00  5.7682667e+01  4.5980774e-02 -4.4496134e-03\n",
      "  5.6303878e+00  5.6016911e+01  8.7284200e-02  6.8315491e-04\n",
      "  4.5455208e+00  5.8195053e+01  4.1668782e-01  2.3774400e-02\n",
      "  5.6922469e+00  6.0105350e+01  2.8914392e-01  1.2023762e-02\n",
      "  5.3527136e+00  5.8965046e+01  8.9799315e-02 -1.4950004e-03\n",
      "  4.4634848e+00  5.9885330e+01  2.4995172e-01  2.0220373e-03\n",
      "  6.0109873e+00]\n",
      "[ 1.20000000e+01  7.04556580e+01  2.55855680e-01  1.05665647e-03\n",
      "  6.14455223e+00  7.23623428e+01  7.43173808e-02  1.95547193e-03\n",
      "  6.40403223e+00  6.56958389e+01  8.75825658e-02  4.90653515e-03\n",
      "  4.15423203e+00  6.95579376e+01  3.60684544e-02  2.13768519e-03\n",
      "  5.35136604e+00  6.70916977e+01  5.75622022e-02  5.78964129e-04\n",
      "  4.27829075e+00  7.09040909e+01  3.13984752e-02  4.90825158e-03\n",
      "  5.62475395e+00  6.84577408e+01  1.95897482e-02  1.90668087e-03\n",
      "  4.96322918e+00  7.27913361e+01  4.11527120e-02 -3.37287784e-05\n",
      "  5.87858915e+00  7.20405350e+01  1.06526755e-01  1.26121193e-03\n",
      "  6.15345621e+00  6.82832718e+01  4.02172506e-02 -1.26212835e-05\n",
      "  5.77534342e+00  6.74046097e+01  7.88379014e-02  8.32229853e-06\n",
      "  5.02398825e+00  7.05856628e+01  4.44564745e-02  2.58177519e-04\n",
      "  3.30729604e+00  6.58128357e+01  4.08438146e-02  2.13904493e-03\n",
      "  4.43516588e+00  6.99370117e+01  5.32798432e-02  2.13879347e-03\n",
      "  4.56850672e+00  7.02359695e+01  5.26377559e-02 -3.84654850e-05\n",
      "  3.92821860e+00  7.02162476e+01  1.84197612e-02 -1.09368935e-04\n",
      "  5.98301840e+00  7.13133240e+01  3.44976224e-02 -3.43535095e-04\n",
      "  5.94287491e+00  6.95594254e+01  3.17155980e-02  1.58366002e-03\n",
      "  5.06537867e+00  6.72131271e+01  5.44603840e-02 -9.08970833e-07\n",
      "  5.70952320e+00  6.99262238e+01  7.68193156e-02  5.02727926e-05\n",
      "  5.38020277e+00  6.81440659e+01  4.30847481e-02  5.77136874e-04\n",
      "  4.08524561e+00  7.18352966e+01  3.22809517e-02  1.09300017e-05\n",
      "  5.51383829e+00  7.05557175e+01  6.23706058e-02 -1.85310841e-04\n",
      "  4.39057779e+00  6.89477539e+01  3.65845561e-02 -5.18548861e-03\n",
      "  5.14349890e+00  6.66164169e+01  7.91356862e-02  1.90894119e-03\n",
      "  4.33005810e+00  6.96002045e+01  4.19235796e-01  3.51171941e-04\n",
      "  5.79709339e+00  7.11368637e+01  3.29789340e-01  1.26361847e-03\n",
      "  5.35927010e+00  6.96461334e+01  9.16493833e-02 -2.09947722e-03\n",
      "  4.75479603e+00  7.13243637e+01  2.55020827e-01  1.98713131e-03\n",
      "  5.61741400e+00]\n"
     ]
    }
   ],
   "source": [
    "previous = X_train[:1]\n",
    "steps_forward = 28\n",
    "forecast = []\n",
    "\n",
    "def round_to_closest6(x):\n",
    "    return min([6, 12, 18, 24], key=lambda xx: abs(x - xx))\n",
    "\n",
    "#print(previous)\n",
    "\n",
    "with torch.no_grad():\n",
    "    for i in range(steps_forward):\n",
    "        pred = model(previous)\n",
    "        pred = pred[:,-1:,:]\n",
    "\n",
    "        # correct for any error in the next predicted hour\n",
    "        pred[-1, -1, 0] = round_to_closest6(pred[-1, -1, 0])\n",
    "        \n",
    "        #print(pred)\n",
    "        forecast.append(pred[-1, -1, :])\n",
    "        previous = torch.cat((previous[:, 1:, :], pred), dim=1)\n",
    "\n",
    "print(forecast[0].numpy())\n",
    "print(forecast[1].numpy())"
   ]
  },
  {
   "cell_type": "code",
   "execution_count": 231,
   "id": "b5e0a919-9949-4a44-ad30-2102f841081a",
   "metadata": {
    "editable": true,
    "slideshow": {
     "slide_type": ""
    },
    "tags": []
   },
   "outputs": [],
   "source": [
    "import numpy as np\n",
    "import torch\n",
    "import torch.optim as optim\n",
    "import torch.utils.data as Data\n",
    "import torch.nn as nn\n",
    "import pandas as pd\n",
    "import matplotlib.pyplot as plt\n",
    "import csv\n",
    "\n",
    "class Model(nn.Module):\n",
    "    def __init__(self, io_size, hidden_size, num_layers):\n",
    "        super().__init__()\n",
    "        self.lstm = nn.LSTM(input_size=io_size, hidden_size=hidden_size, num_layers=num_layers, batch_first=True)\n",
    "        self.linear = nn.Linear(hidden_size, io_size)\n",
    "    def forward(self, x):\n",
    "        x, _ = self.lstm(x)\n",
    "        x = self.linear(x)\n",
    "        return x\n",
    "\n",
    "def create_dataset(dataset, lookback):\n",
    "    X, y = [], []\n",
    "    for i in range(len(dataset)-lookback):\n",
    "        feature = dataset[i:i+lookback]\n",
    "        target = dataset[i+1:i+lookback+1]\n",
    "        X.append(feature)\n",
    "        y.append(target)\n",
    "    return torch.stack(X, dim=0), torch.stack(y, dim=0)\n",
    "\n",
    "def train_model(obs_filepath, lookback, hidden_dim, epochs, train_pct):\n",
    "    data = pd.read_csv(obs_filepath)\n",
    "\n",
    "    data = torch.from_numpy(data.drop('Date', axis=1).values).float()\n",
    "    training_len = int(len(data) * train_pct)\n",
    "    test_len = len(data) - training_len\n",
    "    train, test = data[:training_len], data[training_len:]\n",
    "    \n",
    "    X_train, y_train = create_dataset(train, lookback=lookback)\n",
    "    X_test, y_test = create_dataset(test, lookback=lookback)\n",
    "    #print(X_train.shape, y_train.shape)\n",
    "    #print(X_test.shape, y_test.shape)\n",
    "\n",
    "    model = Model(len(train[0]), hidden_dim, 1)\n",
    "    optimizer = optim.Adam(model.parameters())\n",
    "    loss_fn = nn.MSELoss()\n",
    "    loader = Data.DataLoader(Data.TensorDataset(X_train, y_train), shuffle=True, batch_size=8)\n",
    "     \n",
    "    n_epochs = epochs\n",
    "    for epoch in range(n_epochs):\n",
    "        model.train()\n",
    "        for X_batch, y_batch in loader:\n",
    "            y_pred = model(X_batch)\n",
    "            loss = loss_fn(y_pred, y_batch)\n",
    "            optimizer.zero_grad()\n",
    "            loss.backward()\n",
    "            optimizer.step()\n",
    "        # Validation\n",
    "        if epoch % 5 != 0:\n",
    "            continue\n",
    "        model.eval()\n",
    "        with torch.no_grad():\n",
    "            y_pred = model(X_train)\n",
    "            train_rmse = np.sqrt(loss_fn(y_pred, y_train))\n",
    "            y_pred = model(X_test)\n",
    "            test_rmse = np.sqrt(loss_fn(y_pred, y_test))\n",
    "        print(\"Epoch %d: train RMSE %.4f, test RMSE %.4f\" % (epoch, train_rmse, test_rmse))\n",
    "\n",
    "    model.eval()\n",
    "    with torch.no_grad():\n",
    "        y_pred = model(X_train)\n",
    "        train_rmse = np.sqrt(loss_fn(y_pred, y_train))\n",
    "        y_pred = model(X_test)\n",
    "        test_rmse = np.sqrt(loss_fn(y_pred, y_test))\n",
    "    print(\"Final model: train RMSE %.4f, test RMSE %.4f\" % (train_rmse, test_rmse))\n",
    "\n",
    "def generate_forecast(model, previous_observations, days_forward):\n",
    "    steps_forward = 4 * days_forward\n",
    "    previous = previous_observations\n",
    "\n",
    "    hour = 6\n",
    "    forecast = []\n",
    "    with torch.no_grad():\n",
    "        for i in range(steps_forward):\n",
    "            pred = model(previous)\n",
    "            pred = pred[-1:,:]\n",
    "    \n",
    "            # correct for any error in the next predicted hour\n",
    "            pred[-1, 0] = hour\n",
    "            if hour == 24:\n",
    "                hour = 6\n",
    "            else:\n",
    "                hour += 6\n",
    "            \n",
    "            forecast.append(pred[-1, :])\n",
    "            previous = torch.cat((previous[1:, :], pred), dim=0)\n",
    "    \n",
    "    return torch.stack(forecast, dim=0).numpy()\n",
    "\n",
    "def fetch_previous_observations(obs_filepath, from_date, to_date):\n",
    "    data = pd.read_csv(obs_filepath)\n",
    "    data['Date'] = pd.to_datetime(data['Date'])\n",
    "    data.set_index(['Date', 'Hour'], inplace=True)\n",
    "    data = data.loc[(from_date, 6):(to_date, 24)]\n",
    "    data.reset_index(inplace=True)\n",
    "    data.drop('Date', axis=1, inplace=True)\n",
    "    data = torch.from_numpy(data.values).float()\n",
    "    return data"
   ]
  },
  {
   "cell_type": "code",
   "execution_count": 217,
   "id": "82dffd96-4b9b-48ba-bfde-f7fb3534caa9",
   "metadata": {
    "editable": true,
    "slideshow": {
     "slide_type": ""
    },
    "tags": []
   },
   "outputs": [],
   "source": [
    "import csv\n",
    "\n",
    "def save_forecast(forecast_filepath, forecast, days_forecast, obs_filepath, first_date):\n",
    "    with open(obs_filepath) as ff:\n",
    "        reader = csv.reader(ff)\n",
    "        cols = next(reader)\n",
    "    \n",
    "    df = pd.DataFrame(list(forecast), columns=cols[1:]).round(2)\n",
    "    df[df < 0] = 0\n",
    "    \n",
    "    date = pd.to_datetime(first_date)\n",
    "    dates = []\n",
    "    for i in range(30):\n",
    "        dates.extend([date, date, date, date])\n",
    "        date += pd.Timedelta(days=1)\n",
    "    \n",
    "    df.insert(0, 'Date', pd.Series(dates))\n",
    "    df.to_csv(forecast_filepath, index=False)"
   ]
  },
  {
   "cell_type": "code",
   "execution_count": 209,
   "id": "61d54513-0a22-4a0f-af16-5d7b09245dca",
   "metadata": {},
   "outputs": [],
   "source": [
    "p = fetch_previous_observations(r\"..\\preprocessing\\county_variables.csv\", '2020-01-01', '2020-01-16')\n",
    "f = generate_forecast(model, p, 30)\n",
    "save_forecast(r\"forecast.csv\", f, 30, r\"..\\preprocessing\\county_variables.csv\", '2020-01-17')"
   ]
  },
  {
   "cell_type": "code",
   "execution_count": null,
   "id": "5ce7258a-cd83-4435-bf02-ffa41dccb465",
   "metadata": {},
   "outputs": [],
   "source": [
    "m2 = train_model(r\"..\\preprocessing\\county_variables.csv\", lookback=16, hidden_dim=70, epochs=40, train_pct=0.5)"
   ]
  },
  {
   "cell_type": "code",
   "execution_count": null,
   "id": "a8fa0224-c6fd-4b98-abb8-743513371dd1",
   "metadata": {},
   "outputs": [],
   "source": []
  }
 ],
 "metadata": {
  "kernelspec": {
   "display_name": "Python 3 (ipykernel)",
   "language": "python",
   "name": "python3"
  },
  "language_info": {
   "codemirror_mode": {
    "name": "ipython",
    "version": 3
   },
   "file_extension": ".py",
   "mimetype": "text/x-python",
   "name": "python",
   "nbconvert_exporter": "python",
   "pygments_lexer": "ipython3",
   "version": "3.12.7"
  }
 },
 "nbformat": 4,
 "nbformat_minor": 5
}
