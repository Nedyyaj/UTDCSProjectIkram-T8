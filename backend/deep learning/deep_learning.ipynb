{
 "cells": [
  {
   "cell_type": "code",
   "execution_count": 4,
   "metadata": {
    "editable": true,
    "slideshow": {
     "slide_type": ""
    },
    "tags": []
   },
   "outputs": [],
   "source": [
    "import pandas as pd\n",
    "import numpy as np"
   ]
  },
  {
   "cell_type": "code",
   "execution_count": null,
   "metadata": {
    "editable": true,
    "slideshow": {
     "slide_type": ""
    },
    "tags": []
   },
   "outputs": [],
   "source": [
    "data = pd.read_csv(r\"..\\preprocessing\\county_variables.csv\")\n",
    "num_lag = 2 # number of lag features to predict from\n",
    "\n",
    "data_cols = [col for col in data.columns if col not in ['Date', 'Hour']]\n",
    "for lag in range(1, num_lag+1):\n",
    "    for col in data_cols:\n",
    "        data[f'{col}_lag{lag}'] = data[col].shift(lag)\n",
    "        #data[f'{col}_lag{lag}_diff'] = data[col] - data[f'{col}_lag{lag}']\n",
    "        data[f'{col}_lag{lag}_diff_scaled'] = (data[col] - data[f'{col}_lag{lag}'])/lag\n",
    "\n",
    "num_targets = 1 # number of forward features to predict\n",
    "for target in range(1, num_targets+1):\n",
    "    for col in data_cols:\n",
    "        data[f'{col}_target{target}'] = data[col].shift(-target)\n",
    "        data[f'{col}_target{target}_diff'] = data[f'{col}_target{target}'] - data[col]\n",
    "\n",
    "# time input features\n",
    "data['Date'] = pd.to_datetime(data['Date'])\n",
    "data['doy'] = data['Date'].dt.day_of_year\n",
    "data['years_since_2000'] = (data['Date'] - pd.to_datetime('2000-01-01')) / pd.Timedelta(days=365.25)\n",
    "#data['cos_doy'] = np.cos(2*np.pi*data['doy']/365.25)\n",
    "#data['sin_doy'] = np.sin(2*np.pi*data['doy']/365.25)\n",
    "\n",
    "data = data.iloc[num_lag:-num_targets]\n",
    "data.to_csv('features.csv', index=False)\n",
    "\n",
    "total_data_points = len(data.index)\n",
    "training_data_pct = 0.7\n",
    "training_data = data.iloc[:int(training_data_pct * total_data_points)]\n",
    "testing_data = data.iloc[int(training_data_pct * total_data_points):]\n",
    "\n",
    "# training_data.to_csv('training.csv', index=False)\n",
    "# testing_data.to_csv('testing.csv', index=False)"
   ]
  },
  {
   "cell_type": "code",
   "execution_count": 24,
   "metadata": {},
   "outputs": [],
   "source": [
    "input_features = [col for col in training_data.columns if ('target' not in col and col != 'Date')]\n",
    "output_features = [col for col in training_data.columns if ('target' in col and 'diff' in col)]"
   ]
  },
  {
   "cell_type": "code",
   "execution_count": 26,
   "metadata": {},
   "outputs": [
    {
     "name": "stdout",
     "output_type": "stream",
     "text": [
      "585 116\n"
     ]
    }
   ],
   "source": [
    "print(len(input_features), len(output_features))"
   ]
  },
  {
   "cell_type": "code",
   "execution_count": null,
   "metadata": {},
   "outputs": [],
   "source": []
  }
 ],
 "metadata": {
  "kernelspec": {
   "display_name": "Python 3 (ipykernel)",
   "language": "python",
   "name": "python3"
  },
  "language_info": {
   "codemirror_mode": {
    "name": "ipython",
    "version": 3
   },
   "file_extension": ".py",
   "mimetype": "text/x-python",
   "name": "python",
   "nbconvert_exporter": "python",
   "pygments_lexer": "ipython3",
   "version": "3.12.7"
  }
 },
 "nbformat": 4,
 "nbformat_minor": 4
}
