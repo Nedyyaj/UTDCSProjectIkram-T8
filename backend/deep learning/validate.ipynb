{
 "cells": [
  {
   "cell_type": "code",
   "execution_count": 2,
   "id": "477925e1-06fc-447c-be64-ced88c1998e0",
   "metadata": {},
   "outputs": [],
   "source": [
    "import pickle\n",
    "from forecast import Forecaster\n",
    "\n",
    "with open('..\\\\deep learning\\\\trained_forecaster.pkl', 'rb') as f:\n",
    "    forecaster = pickle.load(f)"
   ]
  },
  {
   "cell_type": "code",
   "execution_count": 3,
   "id": "d6cbad77-bb1b-4093-806a-ca208094abcc",
   "metadata": {},
   "outputs": [],
   "source": [
    "import pandas as pd\n",
    "\n",
    "def fetch_observations(filepath, from_date, to_date):\n",
    "    data = pd.read_csv(filepath)\n",
    "    data['Date'] = pd.to_datetime(data['Date'])\n",
    "    data.set_index(['Date', 'Hour'], inplace=True)\n",
    "    data = data.loc[(from_date, 6):(to_date, 24)]\n",
    "    data.reset_index(inplace=True)\n",
    "    return data"
   ]
  },
  {
   "cell_type": "code",
   "execution_count": null,
   "id": "b1ad6c23-b89f-4dad-bae1-834badcaaa13",
   "metadata": {},
   "outputs": [],
   "source": [
    "import matplotlib.pyplot as plt\n",
    "\n",
    "date = '2024-12-21'\n",
    "days_forward = 5\n",
    "county = 'Palo Pinto'\n",
    "variable = 'Temperature'\n",
    "\n",
    "d1 = pd.to_datetime(date)\n",
    "d2 = d1 - pd.Timedelta(days=1)\n",
    "d3 = d1 - pd.Timedelta(days=3)\n",
    "d4 = d1 + pd.Timedelta(days=days_forward-1)\n",
    "\n",
    "forecaster.generate(date, days_forward)\n",
    "\n",
    "historical_observations = fetch_observations('..\\\\preprocessing\\\\county_variables.csv', str(d3.date()), str(d2.date()))\n",
    "actual_observations = fetch_observations('..\\\\preprocessing\\\\county_variables.csv', str(d1.date()), str(d4.date()))\n",
    "predicted_observations = fetch_observations('forecast.csv', str(d1.date()), str(d4.date()))\n",
    "\n",
    "actual_df = pd.concat((historical_observations, actual_observations), ignore_index=True)\n",
    "predicted_df = pd.concat((historical_observations, predicted_observations), ignore_index=True)\n",
    "\n",
    "actual_df = actual_df.groupby('Date').mean()\n",
    "predicted_df = predicted_df.groupby('Date').mean()\n",
    "\n",
    "column_name = f'{county}_{variable.lower()}'\n",
    "#print(column_name)\n",
    "\n",
    "variable_columns = [x for x in actual_df.columns if variable.lower() in x]\n",
    "#print(variable_columns)\n",
    "diff_df = actual_df[variable_columns] - predicted_df[variable_columns]\n",
    "diffs = diff_df.mean(axis=1)\n",
    "\n",
    "#print(diffs_df)\n",
    "\n",
    "actual_variable = actual_df[column_name].values\n",
    "predicted_variable = predicted_df[column_name].values\n",
    "\n",
    "plt.plot(range(len(diffs)), diffs.values)#, #actual_variable, predicted_variable)\n",
    "plt.plot(range(len(actual_variable)), actual_variable, predicted_variable)\n",
    "plt.show()"
   ]
  },
  {
   "cell_type": "code",
   "execution_count": null,
   "id": "e16adabe-580d-413b-8b67-ecfc8df9d53d",
   "metadata": {},
   "outputs": [],
   "source": [
    "actual_df"
   ]
  },
  {
   "cell_type": "code",
   "execution_count": null,
   "id": "3c79c74f-857b-4171-a071-818d28eba06d",
   "metadata": {},
   "outputs": [],
   "source": [
    "predicted_df"
   ]
  },
  {
   "cell_type": "code",
   "execution_count": 124,
   "id": "004c64bd-8747-4713-a4fd-8f2b06edcfab",
   "metadata": {},
   "outputs": [],
   "source": [
    "def get_forecast_error(forecaster, date, days_forward):\n",
    "    d1 = pd.to_datetime(date)\n",
    "    d4 = d1 + pd.Timedelta(days=days_forward-1)\n",
    "\n",
    "    forecaster.generate(date, days_forward)\n",
    "    \n",
    "    actual_observations = fetch_observations('..\\\\preprocessing\\\\county_variables.csv', str(d1.date()), str(d4.date()))\n",
    "    predicted_observations = fetch_observations('forecast.csv', str(d1.date()), str(d4.date()))\n",
    "\n",
    "    actual_df = actual_observations.groupby('Date').mean()\n",
    "    predicted_df = predicted_observations.groupby('Date').mean()\n",
    "\n",
    "    temp_columns = [x for x in actual_df.columns if 'temp' in x]\n",
    "    precip_columns = [x for x in actual_df.columns if 'precip' in x]\n",
    "    snow_columns = [x for x in actual_df.columns if 'snow' in x]\n",
    "    wind_columns = [x for x in actual_df.columns if 'wind' in x]\n",
    "\n",
    "    temp_means = actual_df[temp_columns].mean(axis=1)\n",
    "    precip_means = actual_df[precip_columns].mean(axis=1)\n",
    "    snow_means = actual_df[snow_columns].mean(axis=1)\n",
    "    wind_means = actual_df[wind_columns].mean(axis=1)\n",
    "\n",
    "    temp_diffs = actual_df[temp_columns].subtract(predicted_df[temp_columns]).mean(axis=1)\n",
    "    precip_diffs = actual_df[precip_columns].subtract(predicted_df[precip_columns]).mean(axis=1)\n",
    "    snow_diffs = actual_df[snow_columns].subtract(predicted_df[snow_columns]).mean(axis=1)\n",
    "    wind_diffs = actual_df[wind_columns].subtract(predicted_df[wind_columns]).mean(axis=1)\n",
    "    \n",
    "    temp_abs_diffs = actual_df[temp_columns].subtract(predicted_df[temp_columns]).abs().mean(axis=1)\n",
    "    precip_abs_diffs = actual_df[precip_columns].subtract(predicted_df[precip_columns]).abs().mean(axis=1)\n",
    "    snow_abs_diffs = actual_df[snow_columns].subtract(predicted_df[snow_columns]).abs().mean(axis=1)\n",
    "    wind_abs_diffs = actual_df[wind_columns].subtract(predicted_df[wind_columns]).abs().mean(axis=1)\n",
    "\n",
    "    day_errors = {}\n",
    "    for i in range(days_forward):\n",
    "        day_errors[i+1] = {\n",
    "            'Temperature': temp_diffs.iloc[i],\n",
    "            'Precipitation': precip_diffs.iloc[i],\n",
    "            'Snow': snow_diffs.iloc[i],\n",
    "            'Wind Speed': wind_diffs.iloc[i]\n",
    "        }\n",
    "    day_abs_errors = {}\n",
    "    for i in range(days_forward):\n",
    "        day_abs_errors[i+1] = {\n",
    "            'Temperature': temp_abs_diffs.iloc[i],\n",
    "            'Precipitation': precip_abs_diffs.iloc[i],\n",
    "            'Snow': snow_abs_diffs.iloc[i],\n",
    "            'Wind Speed': wind_abs_diffs.iloc[i]\n",
    "        }\n",
    "    day_pct_errors = {}\n",
    "    for i in range(days_forward):\n",
    "        day_pct_errors[i+1] = {\n",
    "            'Temperature': temp_diffs.iloc[i] / temp_means.iloc[i],\n",
    "            'Precipitation': precip_diffs.iloc[i] / (precip_means.iloc[i] + 0.001),\n",
    "            'Snow': snow_diffs.iloc[i] / (snow_means.iloc[i] + 0.001),\n",
    "            'Wind Speed': wind_diffs.iloc[i] / wind_means.iloc[i]\n",
    "        }\n",
    "    day_abs_pct_errors = {}\n",
    "    for i in range(days_forward):\n",
    "        day_abs_pct_errors[i+1] = {\n",
    "            'Temperature': temp_abs_diffs.iloc[i] / temp_means.iloc[i],\n",
    "            'Precipitation': precip_abs_diffs.iloc[i] / (precip_means.iloc[i] + 0.001),\n",
    "            'Snow': snow_abs_diffs.iloc[i] / (snow_means.iloc[i] + 0.001),\n",
    "            'Wind Speed': wind_abs_diffs.iloc[i] / wind_means.iloc[i]\n",
    "        }\n",
    "\n",
    "    return day_errors, day_abs_errors, day_pct_errors, day_abs_pct_errors\n"
   ]
  },
  {
   "cell_type": "code",
   "execution_count": 128,
   "id": "5c23aa02-bdc6-4b70-8edf-fe7be5bd4aaf",
   "metadata": {},
   "outputs": [
    {
     "name": "stdout",
     "output_type": "stream",
     "text": [
      "0\n",
      "50\n",
      "100\n",
      "150\n",
      "200\n",
      "250\n",
      "300\n",
      "350\n",
      "400\n",
      "450\n",
      "500\n",
      "550\n",
      "600\n",
      "650\n",
      "700\n",
      "750\n",
      "800\n",
      "850\n",
      "900\n",
      "950\n",
      "1000\n",
      "1050\n"
     ]
    }
   ],
   "source": [
    "import matplotlib.pyplot as plt\n",
    "\n",
    "errors = []\n",
    "abs_errors = []\n",
    "pct_errors = []\n",
    "abs_pct_errors = []\n",
    "start_date = pd.to_datetime('2020-01-01')\n",
    "\n",
    "for i in range(365 * 3):\n",
    "    if i % 50 == 0:\n",
    "        print(i)\n",
    "    current_date = str((start_date + pd.Timedelta(days=i)).date())\n",
    "    errors_, abs_errors_, pct_errors_, abs_pct_errors_ = get_forecast_error(forecaster, current_date, 7)\n",
    "    errors.append(errors_)\n",
    "    abs_errors.append(abs_errors_)\n",
    "    pct_errors.append(pct_errors_)\n",
    "    abs_pct_errors.append(abs_pct_errors_)\n",
    "\n",
    "# temp_errors = []\n",
    "# for e in errors:\n",
    "#     temp_errors.append(errors[e]['Temperature'])\n",
    "\n",
    "# plt.plot(range(len(temp_errors)), temp_errors)\n",
    "# plt.show()"
   ]
  },
  {
   "cell_type": "code",
   "execution_count": 52,
   "id": "2ae7195f-b0fa-4009-89d3-e12bb220d037",
   "metadata": {},
   "outputs": [
    {
     "data": {
      "text/plain": [
       "np.float64(22.70568965517241)"
      ]
     },
     "execution_count": 52,
     "metadata": {},
     "output_type": "execute_result"
    }
   ],
   "source": [
    "errors_2024[0][1]['Temperature']"
   ]
  },
  {
   "cell_type": "code",
   "execution_count": 136,
   "id": "7befdef3-ea13-4914-b14a-d0fd25ac746d",
   "metadata": {},
   "outputs": [
    {
     "name": "stdout",
     "output_type": "stream",
     "text": [
      "0.22297665693911303\n",
      "0.2229766569390945\n"
     ]
    },
    {
     "data": {
      "image/png": "[encoded data removed]",
      "text/plain": [
       "<Figure size 640x480 with 1 Axes>"
      ]
     },
     "metadata": {},
     "output_type": "display_data"
    }
   ],
   "source": [
    "variable = 'Temperature'\n",
    "errors_to_use = abs_pct_errors\n",
    "\n",
    "temp_error_avgs = [0, 0, 0, 0, 0, 0, 0]\n",
    "counter = 0\n",
    "\n",
    "total_error = 0\n",
    "total_counter = 0\n",
    "\n",
    "for i in range(len(errors_to_use)):\n",
    "    for j in range(7):\n",
    "        if pd.isna(errors_to_use[i][j+1][variable]):\n",
    "            continue\n",
    "        else:\n",
    "            total_counter += 1\n",
    "            counter += (1/7)\n",
    "        error = errors_to_use[i][j+1][variable]\n",
    "        total_error += error\n",
    "        temp_error_avgs[j] += (error)\n",
    "    #print(temp_error_avgs)\n",
    "\n",
    "for i in range(7):\n",
    "    temp_error_avgs[i] /= counter\n",
    "\n",
    "print(sum(temp_error_avgs)/7)\n",
    "print(total_error/total_counter)\n",
    "\n",
    "plt.plot(range(7), temp_error_avgs)\n",
    "plt.show()"
   ]
  },
  {
   "cell_type": "code",
   "execution_count": null,
   "id": "f6d7c44d-1388-4778-b41c-c1f3170cd06a",
   "metadata": {},
   "outputs": [],
   "source": []
  }
 ],
 "metadata": {
  "kernelspec": {
   "display_name": "Python 3 (ipykernel)",
   "language": "python",
   "name": "python3"
  },
  "language_info": {
   "codemirror_mode": {
    "name": "ipython",
    "version": 3
   },
   "file_extension": ".py",
   "mimetype": "text/x-python",
   "name": "python",
   "nbconvert_exporter": "python",
   "pygments_lexer": "ipython3",
   "version": "3.12.7"
  }
 },
 "nbformat": 4,
 "nbformat_minor": 5
}
