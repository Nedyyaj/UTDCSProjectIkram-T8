{
 "cells": [
  {
   "cell_type": "code",
   "execution_count": 4,
   "id": "8d7426e5-a192-4a17-b987-e2659cd92b7b",
   "metadata": {
    "editable": true,
    "slideshow": {
     "slide_type": ""
    },
    "tags": []
   },
   "outputs": [
    {
     "data": {
      "text/plain": [
       "{'DFW': ['Tarrant', 'Parker'],\n",
       " 'GKY': ['Tarrant', 'Parker'],\n",
       " 'FTW': ['Tarrant', 'Parker'],\n",
       " 'AFW': ['Tarrant', 'Parker'],\n",
       " 'ACT': ['McLennan', 'Bosque'],\n",
       " 'PWG': ['McLennan', 'Bosque'],\n",
       " '0F2': ['Montague'],\n",
       " 'BKD': ['Stephens', 'Eastland'],\n",
       " 'XBP': ['Wise', 'Jack'],\n",
       " 'LUD': ['Wise', 'Jack'],\n",
       " 'CPT': ['Johnson', 'Somervell'],\n",
       " 'MKN': ['Comanche', 'Eastland'],\n",
       " 'CRS': ['Navarro'],\n",
       " 'DAL': ['Dallas', 'Rockwall'],\n",
       " 'RBD': ['Dallas', 'Rockwall'],\n",
       " 'DTO': ['Denton', 'Parker'],\n",
       " 'GLE': ['Cooke'],\n",
       " 'GOP': ['Coryell', 'Bosque'],\n",
       " 'RPH': ['Young', 'Jack'],\n",
       " 'GDJ': ['Hood', 'Parker', 'Somervell'],\n",
       " 'GVT': ['Hunt', 'Rockwall'],\n",
       " 'MNZ': ['Hamilton', 'Bosque'],\n",
       " 'INJ': ['Hill', 'Bosque'],\n",
       " 'TKI': ['Collin', 'Rockwall'],\n",
       " 'MWL': ['Palo Pinto', 'Parker'],\n",
       " 'GYI': ['Grayson'],\n",
       " 'SEP': ['Erath', 'Somervell'],\n",
       " 'TRL': ['Kaufman', 'Rockwall'],\n",
       " 'JWY': ['Ellis']}"
      ]
     },
     "execution_count": 4,
     "metadata": {},
     "output_type": "execute_result"
    }
   ],
   "source": [
    "county_stations = {\n",
    "    'Tarrant': ['DFW', 'GKY', 'FTW', 'AFW'],\n",
    "    'McLennan': ['ACT', 'PWG'],\n",
    "    'Montague': ['0F2'],\n",
    "    'Stephens': ['BKD'],\n",
    "    'Wise': ['XBP', 'LUD'],\n",
    "    'Johnson': ['CPT'],\n",
    "    'Comanche': ['MKN'],\n",
    "    'Navarro': ['CRS'],\n",
    "    'Dallas': ['DAL', 'RBD'],\n",
    "    'Denton': ['DTO'],\n",
    "    'Cooke': ['GLE'],\n",
    "    'Coryell': ['GOP'],\n",
    "    'Young': ['RPH'],\n",
    "    'Hood': ['GDJ'],\n",
    "    'Hunt': ['GVT'],\n",
    "    'Hamilton': ['MNZ'],\n",
    "    'Hill': ['INJ'],\n",
    "    'Collin': ['TKI'],\n",
    "    'Palo Pinto': ['MWL'],\n",
    "    'Grayson': ['GYI'],\n",
    "    'Erath': ['SEP'],\n",
    "    'Kaufman': ['TRL'],\n",
    "    'Ellis': ['JWY'],\n",
    "    'Eastland': ['BKD', 'MKN'],\n",
    "    'Jack': ['RPH', 'XBP', 'LUD'],\n",
    "    'Parker': ['MWL', 'GDJ', 'DFW', 'GKY', 'FTW', 'AFW', 'DTO'],\n",
    "    'Rockwall': ['DAL', 'RBD', 'TKI', 'GVT', 'TRL'],\n",
    "    'Somervell': ['SEP', 'GDJ', 'CPT'],\n",
    "    'Bosque': ['MNZ', 'INJ', 'ACT', 'PWG', 'GOP']\n",
    "}\n",
    "\n",
    "station_counties = {}\n",
    "for county, stations in county_stations.items():\n",
    "    for station in stations:\n",
    "        if station not in station_counties:\n",
    "            station_counties[station] = []\n",
    "        station_counties[station].append(county)\n",
    "station_counties"
   ]
  },
  {
   "cell_type": "code",
   "execution_count": 18,
   "id": "6e41e3bd-5d2e-4573-91fe-bbedb77340a0",
   "metadata": {},
   "outputs": [],
   "source": [
    "import pandas as pd\n",
    "\n",
    "dates = pd.read_csv('dates.csv')\n",
    "dates['Date'] = pd.to_datetime(dates['Date'])"
   ]
  },
  {
   "cell_type": "code",
   "execution_count": 24,
   "id": "b72d9c27-a8f3-44a4-ac05-b773b5a48521",
   "metadata": {
    "editable": true,
    "slideshow": {
     "slide_type": ""
    },
    "tags": []
   },
   "outputs": [
    {
     "name": "stdout",
     "output_type": "stream",
     "text": [
      "0F2\n"
     ]
    },
    {
     "name": "stderr",
     "output_type": "stream",
     "text": [
      "C:\\Users\\Austin\\AppData\\Local\\Temp\\ipykernel_43220\\3091695351.py:35: FutureWarning: DataFrame.interpolate with method=pad is deprecated and will raise in a future version. Use obj.ffill() or obj.bfill() instead.\n",
      "  selected.interpolate(method='pad', inplace=True)\n"
     ]
    },
    {
     "name": "stdout",
     "output_type": "stream",
     "text": [
      "ACT\n"
     ]
    },
    {
     "name": "stderr",
     "output_type": "stream",
     "text": [
      "C:\\Users\\Austin\\AppData\\Local\\Temp\\ipykernel_43220\\3091695351.py:35: FutureWarning: DataFrame.interpolate with method=pad is deprecated and will raise in a future version. Use obj.ffill() or obj.bfill() instead.\n",
      "  selected.interpolate(method='pad', inplace=True)\n"
     ]
    },
    {
     "name": "stdout",
     "output_type": "stream",
     "text": [
      "AFW\n"
     ]
    },
    {
     "name": "stderr",
     "output_type": "stream",
     "text": [
      "C:\\Users\\Austin\\AppData\\Local\\Temp\\ipykernel_43220\\3091695351.py:35: FutureWarning: DataFrame.interpolate with method=pad is deprecated and will raise in a future version. Use obj.ffill() or obj.bfill() instead.\n",
      "  selected.interpolate(method='pad', inplace=True)\n"
     ]
    },
    {
     "name": "stdout",
     "output_type": "stream",
     "text": [
      "BKD\n"
     ]
    },
    {
     "name": "stderr",
     "output_type": "stream",
     "text": [
      "C:\\Users\\Austin\\AppData\\Local\\Temp\\ipykernel_43220\\3091695351.py:35: FutureWarning: DataFrame.interpolate with method=pad is deprecated and will raise in a future version. Use obj.ffill() or obj.bfill() instead.\n",
      "  selected.interpolate(method='pad', inplace=True)\n"
     ]
    },
    {
     "name": "stdout",
     "output_type": "stream",
     "text": [
      "CPT\n"
     ]
    },
    {
     "name": "stderr",
     "output_type": "stream",
     "text": [
      "C:\\Users\\Austin\\AppData\\Local\\Temp\\ipykernel_43220\\3091695351.py:35: FutureWarning: DataFrame.interpolate with method=pad is deprecated and will raise in a future version. Use obj.ffill() or obj.bfill() instead.\n",
      "  selected.interpolate(method='pad', inplace=True)\n"
     ]
    },
    {
     "name": "stdout",
     "output_type": "stream",
     "text": [
      "CRS\n"
     ]
    },
    {
     "name": "stderr",
     "output_type": "stream",
     "text": [
      "C:\\Users\\Austin\\AppData\\Local\\Temp\\ipykernel_43220\\3091695351.py:35: FutureWarning: DataFrame.interpolate with method=pad is deprecated and will raise in a future version. Use obj.ffill() or obj.bfill() instead.\n",
      "  selected.interpolate(method='pad', inplace=True)\n"
     ]
    },
    {
     "name": "stdout",
     "output_type": "stream",
     "text": [
      "DAL\n"
     ]
    },
    {
     "name": "stderr",
     "output_type": "stream",
     "text": [
      "C:\\Users\\Austin\\AppData\\Local\\Temp\\ipykernel_43220\\3091695351.py:35: FutureWarning: DataFrame.interpolate with method=pad is deprecated and will raise in a future version. Use obj.ffill() or obj.bfill() instead.\n",
      "  selected.interpolate(method='pad', inplace=True)\n"
     ]
    },
    {
     "name": "stdout",
     "output_type": "stream",
     "text": [
      "DFW\n"
     ]
    },
    {
     "name": "stderr",
     "output_type": "stream",
     "text": [
      "C:\\Users\\Austin\\AppData\\Local\\Temp\\ipykernel_43220\\3091695351.py:35: FutureWarning: DataFrame.interpolate with method=pad is deprecated and will raise in a future version. Use obj.ffill() or obj.bfill() instead.\n",
      "  selected.interpolate(method='pad', inplace=True)\n"
     ]
    },
    {
     "name": "stdout",
     "output_type": "stream",
     "text": [
      "DTO\n"
     ]
    },
    {
     "name": "stderr",
     "output_type": "stream",
     "text": [
      "C:\\Users\\Austin\\AppData\\Local\\Temp\\ipykernel_43220\\3091695351.py:35: FutureWarning: DataFrame.interpolate with method=pad is deprecated and will raise in a future version. Use obj.ffill() or obj.bfill() instead.\n",
      "  selected.interpolate(method='pad', inplace=True)\n"
     ]
    },
    {
     "name": "stdout",
     "output_type": "stream",
     "text": [
      "FTW\n"
     ]
    },
    {
     "name": "stderr",
     "output_type": "stream",
     "text": [
      "C:\\Users\\Austin\\AppData\\Local\\Temp\\ipykernel_43220\\3091695351.py:35: FutureWarning: DataFrame.interpolate with method=pad is deprecated and will raise in a future version. Use obj.ffill() or obj.bfill() instead.\n",
      "  selected.interpolate(method='pad', inplace=True)\n"
     ]
    },
    {
     "name": "stdout",
     "output_type": "stream",
     "text": [
      "GDJ\n"
     ]
    },
    {
     "name": "stderr",
     "output_type": "stream",
     "text": [
      "C:\\Users\\Austin\\AppData\\Local\\Temp\\ipykernel_43220\\3091695351.py:35: FutureWarning: DataFrame.interpolate with method=pad is deprecated and will raise in a future version. Use obj.ffill() or obj.bfill() instead.\n",
      "  selected.interpolate(method='pad', inplace=True)\n"
     ]
    },
    {
     "name": "stdout",
     "output_type": "stream",
     "text": [
      "GKY\n"
     ]
    },
    {
     "name": "stderr",
     "output_type": "stream",
     "text": [
      "C:\\Users\\Austin\\AppData\\Local\\Temp\\ipykernel_43220\\3091695351.py:35: FutureWarning: DataFrame.interpolate with method=pad is deprecated and will raise in a future version. Use obj.ffill() or obj.bfill() instead.\n",
      "  selected.interpolate(method='pad', inplace=True)\n"
     ]
    },
    {
     "name": "stdout",
     "output_type": "stream",
     "text": [
      "GLE\n"
     ]
    },
    {
     "name": "stderr",
     "output_type": "stream",
     "text": [
      "C:\\Users\\Austin\\AppData\\Local\\Temp\\ipykernel_43220\\3091695351.py:35: FutureWarning: DataFrame.interpolate with method=pad is deprecated and will raise in a future version. Use obj.ffill() or obj.bfill() instead.\n",
      "  selected.interpolate(method='pad', inplace=True)\n"
     ]
    },
    {
     "name": "stdout",
     "output_type": "stream",
     "text": [
      "GOP\n"
     ]
    },
    {
     "name": "stderr",
     "output_type": "stream",
     "text": [
      "C:\\Users\\Austin\\AppData\\Local\\Temp\\ipykernel_43220\\3091695351.py:35: FutureWarning: DataFrame.interpolate with method=pad is deprecated and will raise in a future version. Use obj.ffill() or obj.bfill() instead.\n",
      "  selected.interpolate(method='pad', inplace=True)\n"
     ]
    },
    {
     "name": "stdout",
     "output_type": "stream",
     "text": [
      "GVT\n"
     ]
    },
    {
     "name": "stderr",
     "output_type": "stream",
     "text": [
      "C:\\Users\\Austin\\AppData\\Local\\Temp\\ipykernel_43220\\3091695351.py:35: FutureWarning: DataFrame.interpolate with method=pad is deprecated and will raise in a future version. Use obj.ffill() or obj.bfill() instead.\n",
      "  selected.interpolate(method='pad', inplace=True)\n"
     ]
    },
    {
     "name": "stdout",
     "output_type": "stream",
     "text": [
      "GYI\n"
     ]
    },
    {
     "name": "stderr",
     "output_type": "stream",
     "text": [
      "C:\\Users\\Austin\\AppData\\Local\\Temp\\ipykernel_43220\\3091695351.py:35: FutureWarning: DataFrame.interpolate with method=pad is deprecated and will raise in a future version. Use obj.ffill() or obj.bfill() instead.\n",
      "  selected.interpolate(method='pad', inplace=True)\n"
     ]
    },
    {
     "name": "stdout",
     "output_type": "stream",
     "text": [
      "INJ\n"
     ]
    },
    {
     "name": "stderr",
     "output_type": "stream",
     "text": [
      "C:\\Users\\Austin\\AppData\\Local\\Temp\\ipykernel_43220\\3091695351.py:35: FutureWarning: DataFrame.interpolate with method=pad is deprecated and will raise in a future version. Use obj.ffill() or obj.bfill() instead.\n",
      "  selected.interpolate(method='pad', inplace=True)\n"
     ]
    },
    {
     "name": "stdout",
     "output_type": "stream",
     "text": [
      "JWY\n"
     ]
    },
    {
     "name": "stderr",
     "output_type": "stream",
     "text": [
      "C:\\Users\\Austin\\AppData\\Local\\Temp\\ipykernel_43220\\3091695351.py:35: FutureWarning: DataFrame.interpolate with method=pad is deprecated and will raise in a future version. Use obj.ffill() or obj.bfill() instead.\n",
      "  selected.interpolate(method='pad', inplace=True)\n"
     ]
    },
    {
     "name": "stdout",
     "output_type": "stream",
     "text": [
      "LUD\n"
     ]
    },
    {
     "name": "stderr",
     "output_type": "stream",
     "text": [
      "C:\\Users\\Austin\\AppData\\Local\\Temp\\ipykernel_43220\\3091695351.py:35: FutureWarning: DataFrame.interpolate with method=pad is deprecated and will raise in a future version. Use obj.ffill() or obj.bfill() instead.\n",
      "  selected.interpolate(method='pad', inplace=True)\n"
     ]
    },
    {
     "name": "stdout",
     "output_type": "stream",
     "text": [
      "MKN\n"
     ]
    },
    {
     "name": "stderr",
     "output_type": "stream",
     "text": [
      "C:\\Users\\Austin\\AppData\\Local\\Temp\\ipykernel_43220\\3091695351.py:35: FutureWarning: DataFrame.interpolate with method=pad is deprecated and will raise in a future version. Use obj.ffill() or obj.bfill() instead.\n",
      "  selected.interpolate(method='pad', inplace=True)\n"
     ]
    },
    {
     "name": "stdout",
     "output_type": "stream",
     "text": [
      "MNZ\n"
     ]
    },
    {
     "name": "stderr",
     "output_type": "stream",
     "text": [
      "C:\\Users\\Austin\\AppData\\Local\\Temp\\ipykernel_43220\\3091695351.py:35: FutureWarning: DataFrame.interpolate with method=pad is deprecated and will raise in a future version. Use obj.ffill() or obj.bfill() instead.\n",
      "  selected.interpolate(method='pad', inplace=True)\n"
     ]
    },
    {
     "name": "stdout",
     "output_type": "stream",
     "text": [
      "MWL\n"
     ]
    },
    {
     "name": "stderr",
     "output_type": "stream",
     "text": [
      "C:\\Users\\Austin\\AppData\\Local\\Temp\\ipykernel_43220\\3091695351.py:35: FutureWarning: DataFrame.interpolate with method=pad is deprecated and will raise in a future version. Use obj.ffill() or obj.bfill() instead.\n",
      "  selected.interpolate(method='pad', inplace=True)\n"
     ]
    },
    {
     "name": "stdout",
     "output_type": "stream",
     "text": [
      "PWG\n"
     ]
    },
    {
     "name": "stderr",
     "output_type": "stream",
     "text": [
      "C:\\Users\\Austin\\AppData\\Local\\Temp\\ipykernel_43220\\3091695351.py:35: FutureWarning: DataFrame.interpolate with method=pad is deprecated and will raise in a future version. Use obj.ffill() or obj.bfill() instead.\n",
      "  selected.interpolate(method='pad', inplace=True)\n"
     ]
    },
    {
     "name": "stdout",
     "output_type": "stream",
     "text": [
      "RBD\n"
     ]
    },
    {
     "name": "stderr",
     "output_type": "stream",
     "text": [
      "C:\\Users\\Austin\\AppData\\Local\\Temp\\ipykernel_43220\\3091695351.py:35: FutureWarning: DataFrame.interpolate with method=pad is deprecated and will raise in a future version. Use obj.ffill() or obj.bfill() instead.\n",
      "  selected.interpolate(method='pad', inplace=True)\n"
     ]
    },
    {
     "name": "stdout",
     "output_type": "stream",
     "text": [
      "RPH\n"
     ]
    },
    {
     "name": "stderr",
     "output_type": "stream",
     "text": [
      "C:\\Users\\Austin\\AppData\\Local\\Temp\\ipykernel_43220\\3091695351.py:35: FutureWarning: DataFrame.interpolate with method=pad is deprecated and will raise in a future version. Use obj.ffill() or obj.bfill() instead.\n",
      "  selected.interpolate(method='pad', inplace=True)\n"
     ]
    },
    {
     "name": "stdout",
     "output_type": "stream",
     "text": [
      "SEP\n"
     ]
    },
    {
     "name": "stderr",
     "output_type": "stream",
     "text": [
      "C:\\Users\\Austin\\AppData\\Local\\Temp\\ipykernel_43220\\3091695351.py:35: FutureWarning: DataFrame.interpolate with method=pad is deprecated and will raise in a future version. Use obj.ffill() or obj.bfill() instead.\n",
      "  selected.interpolate(method='pad', inplace=True)\n"
     ]
    },
    {
     "name": "stdout",
     "output_type": "stream",
     "text": [
      "TKI\n"
     ]
    },
    {
     "name": "stderr",
     "output_type": "stream",
     "text": [
      "C:\\Users\\Austin\\AppData\\Local\\Temp\\ipykernel_43220\\3091695351.py:35: FutureWarning: DataFrame.interpolate with method=pad is deprecated and will raise in a future version. Use obj.ffill() or obj.bfill() instead.\n",
      "  selected.interpolate(method='pad', inplace=True)\n"
     ]
    },
    {
     "name": "stdout",
     "output_type": "stream",
     "text": [
      "TRL\n"
     ]
    },
    {
     "name": "stderr",
     "output_type": "stream",
     "text": [
      "C:\\Users\\Austin\\AppData\\Local\\Temp\\ipykernel_43220\\3091695351.py:35: FutureWarning: DataFrame.interpolate with method=pad is deprecated and will raise in a future version. Use obj.ffill() or obj.bfill() instead.\n",
      "  selected.interpolate(method='pad', inplace=True)\n"
     ]
    },
    {
     "name": "stdout",
     "output_type": "stream",
     "text": [
      "XBP\n"
     ]
    },
    {
     "name": "stderr",
     "output_type": "stream",
     "text": [
      "C:\\Users\\Austin\\AppData\\Local\\Temp\\ipykernel_43220\\3091695351.py:35: FutureWarning: DataFrame.interpolate with method=pad is deprecated and will raise in a future version. Use obj.ffill() or obj.bfill() instead.\n",
      "  selected.interpolate(method='pad', inplace=True)\n"
     ]
    }
   ],
   "source": [
    "import pandas as pd\n",
    "import os\n",
    "\n",
    "selected_dfs = []\n",
    "\n",
    "pd.options.mode.chained_assignment = None\n",
    "\n",
    "stations_dir = r\"..\\data\"\n",
    "for file in os.listdir(stations_dir):\n",
    "    station = file[:3]\n",
    "\n",
    "    if station not in station_counties:\n",
    "        continue\n",
    "\n",
    "    print(station)\n",
    "\n",
    "    path = os.path.join(stations_dir, file)\n",
    "    station_df = pd.read_csv(path)\n",
    "    expanded_df = pd.DataFrame()\n",
    "\n",
    "    #print(station_df.head(3))\n",
    "\n",
    "    selected = station_df[['Date', 'Avg Temp', 'Max Temp', 'Min Temp', 'Total Precip', 'Total Snow', 'Avg Wind Speed', 'Max Wind Speed']]\n",
    "\n",
    "    selected_cols = selected.columns.drop('Date')\n",
    "    selected[selected_cols] = selected[selected_cols].apply(pd.to_numeric, errors='coerce')\n",
    "    selected['Date'] = pd.to_datetime(selected['Date'])\n",
    "\n",
    "    selected = selected[selected['Max Wind Speed'] < 100] # correct for some error where the max wind speed is swapped with the max wind direction\n",
    "    selected.dropna(subset=['Avg Temp', 'Max Temp', 'Min Temp'], inplace=True) # rows where these are NaN are likely missing all values anyway\n",
    "    selected.fillna(0, inplace=True)\n",
    "\n",
    "    # just get the specific range of dates from dates.csv, make sure no gaps exist\n",
    "    selected = pd.merge(dates, selected, on='Date', how='left')\n",
    "    selected.interpolate(method='pad', inplace=True)\n",
    "    \n",
    "    daily_rows = []\n",
    "    \n",
    "    for _, row in selected.iterrows():\n",
    "        date = row['Date']\n",
    "        max_t = row['Max Temp']\n",
    "        min_t = row['Min Temp']\n",
    "        avg_t = row['Avg Temp']\n",
    "\n",
    "        extra_t = 2*avg_t - (max_t + min_t) / 2\n",
    "\n",
    "        precip = row['Total Precip'] / 4\n",
    "        snow = row['Total Snow'] / 4\n",
    "\n",
    "        avg_w = row['Avg Wind Speed']\n",
    "\n",
    "        daily_rows.append({'Date': date, 'Hour': 6, 'Temperature': min_t, 'Precipitation': precip, 'Snow': snow, 'Wind Speed': avg_w})\n",
    "        daily_rows.append({'Date': date, 'Hour': 12, 'Temperature': extra_t, 'Precipitation': precip, 'Snow': snow, 'Wind Speed': avg_w})\n",
    "        daily_rows.append({'Date': date, 'Hour': 18, 'Temperature': max_t, 'Precipitation': precip, 'Snow': snow, 'Wind Speed': avg_w})\n",
    "        daily_rows.append({'Date': date, 'Hour': 24, 'Temperature': extra_t, 'Precipitation': precip, 'Snow': snow, 'Wind Speed': avg_w})\n",
    "        \n",
    "    daily_df = pd.DataFrame(daily_rows)\n",
    "    \n",
    "    daily_df.to_csv(f'data\\\\{station}_hourly.csv', index=False)"
   ]
  },
  {
   "cell_type": "code",
   "execution_count": null,
   "id": "699d2dba-e2a9-48d5-bcf3-2153a9eca417",
   "metadata": {
    "editable": true,
    "slideshow": {
     "slide_type": ""
    },
    "tags": []
   },
   "outputs": [],
   "source": []
  }
 ],
 "metadata": {
  "kernelspec": {
   "display_name": "Python 3 (ipykernel)",
   "language": "python",
   "name": "python3"
  },
  "language_info": {
   "codemirror_mode": {
    "name": "ipython",
    "version": 3
   },
   "file_extension": ".py",
   "mimetype": "text/x-python",
   "name": "python",
   "nbconvert_exporter": "python",
   "pygments_lexer": "ipython3",
   "version": "3.12.7"
  }
 },
 "nbformat": 4,
 "nbformat_minor": 5
}
