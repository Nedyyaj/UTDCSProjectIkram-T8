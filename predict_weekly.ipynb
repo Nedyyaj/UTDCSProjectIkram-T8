{
 "cells": [
  {
   "cell_type": "code",
   "execution_count": 1,
   "metadata": {},
   "outputs": [],
   "source": [
    "import pandas as pd\n",
    "from weekly_forecast import NormalForecast, RandomForestForecast\n",
    "\n",
    "pd.options.mode.chained_assignment = None\n",
    "\n",
    "station_data = r\"C:\\Data\\North Texas Weather\\by-station\\ACT.csv\"\n",
    "station_df = pd.read_csv(station_data)\n",
    "\n",
    "n = NormalForecast()\n",
    "n.fit(station_df, target='Avg Temp')\n",
    "\n",
    "r = RandomForestForecast()\n",
    "r._n_estimators = 100\n",
    "r.fit(station_df, target='Avg Temp')"
   ]
  },
  {
   "cell_type": "code",
   "execution_count": 2,
   "metadata": {},
   "outputs": [
    {
     "data": {
      "text/plain": [
       "array([49., 50., 48., 40., 56., 41., 35.])"
      ]
     },
     "execution_count": 2,
     "metadata": {},
     "output_type": "execute_result"
    }
   ],
   "source": [
    "n.forecast_weekly('2025-01-01')"
   ]
  },
  {
   "cell_type": "code",
   "execution_count": 14,
   "metadata": {},
   "outputs": [
    {
     "data": {
      "text/plain": [
       "array([44, 43, 45, 48, 51, 51, 51])"
      ]
     },
     "execution_count": 14,
     "metadata": {},
     "output_type": "execute_result"
    }
   ],
   "source": [
    "r.forecast_weekly('2025-01-01', starting_temp=40)"
   ]
  }
 ],
 "metadata": {
  "kernelspec": {
   "display_name": "Python 3",
   "language": "python",
   "name": "python3"
  },
  "language_info": {
   "codemirror_mode": {
    "name": "ipython",
    "version": 3
   },
   "file_extension": ".py",
   "mimetype": "text/x-python",
   "name": "python",
   "nbconvert_exporter": "python",
   "pygments_lexer": "ipython3",
   "version": "3.12.6"
  }
 },
 "nbformat": 4,
 "nbformat_minor": 2
}
